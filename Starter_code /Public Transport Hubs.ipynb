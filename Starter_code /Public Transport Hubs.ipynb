{
 "cells": [
  {
   "cell_type": "code",
   "execution_count": 4,
   "metadata": {},
   "outputs": [],
   "source": [
    "# Dependencies and Setup\n",
    "import matplotlib.pyplot as plt\n",
    "import pandas as pd\n",
    "import numpy as np\n",
    "import requests\n",
    "\n",
    "\n"
   ]
  },
  {
   "cell_type": "code",
   "execution_count": 6,
   "metadata": {},
   "outputs": [],
   "source": [
    "# perform Api calls \n",
    "api_key = \"8469ce8835d24f5f832bfd64ce9d0e2e\"\n",
    "url=\"http://geoservices.tamu.edu/Services/Geocode/WebService/GeocoderWebServiceHttpNonParsedDetailed_V04_01.aspx?\"\n",
    "zip_code = 73301\n",
    "city = \"austin\"\n",
    "query_url = f\"{url}appid={api_key}&city={city}\"\n",
    "response = requests.get(query_url).json\n",
    "# payloads={streetAddress=9355%20Burton%20Way&\n",
    "# city=Beverly%20Hills\n",
    "# &state=ca&\n",
    "# zip=90210&\n",
    "#apikey=8469ce8835d24f5f832bfd64ce9d0e2e&format=json&census=true&censusYear=2000|2010&notStore=false&version=4.01\"}\n"
   ]
  },
  {
   "cell_type": "code",
   "execution_count": null,
   "metadata": {},
   "outputs": [],
   "source": []
  }
 ],
 "metadata": {
  "kernelspec": {
   "display_name": "project_1",
   "language": "python",
   "name": "project_1"
  },
  "language_info": {
   "codemirror_mode": {
    "name": "ipython",
    "version": 3
   },
   "file_extension": ".py",
   "mimetype": "text/x-python",
   "name": "python",
   "nbconvert_exporter": "python",
   "pygments_lexer": "ipython3",
   "version": "3.7.3"
  }
 },
 "nbformat": 4,
 "nbformat_minor": 2
}
